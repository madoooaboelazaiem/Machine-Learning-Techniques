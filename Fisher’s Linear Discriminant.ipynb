{
 "cells": [
  {
   "cell_type": "markdown",
   "metadata": {},
   "source": [
    "<h1 align=\"center\"> CSEN 1022 Assignment Submission </h1> "
   ]
  },
  {
   "cell_type": "markdown",
   "metadata": {},
   "source": [
    "## Please don't forget to fill in this data\n",
    "Member 1 Name: Mohamed Aboelazaiem Salama\n",
    "\n",
    "Member 1 ID: 40-6227\n",
    "\n",
    "Member 1 Tutorial: T-08\n",
    "\n",
    "Member 2 Name: Bassem Ayman\n",
    "\n",
    "Member 2 ID: 40-5839\n",
    "\n",
    "Member 2 Tutorial: T-07"
   ]
  },
  {
   "cell_type": "markdown",
   "metadata": {},
   "source": [
    "## Imports (Don't Edit)"
   ]
  },
  {
   "cell_type": "code",
   "execution_count": 1,
   "metadata": {},
   "outputs": [],
   "source": [
    "# ONLY USE THESE IMPORTS.\n",
    "# PLEASE DON'T EDIT THIS CELL\n",
    "import numpy as np\n",
    "import matplotlib.pyplot as plt"
   ]
  },
  {
   "cell_type": "markdown",
   "metadata": {},
   "source": [
    "## Read Data"
   ]
  },
  {
   "cell_type": "code",
   "execution_count": 2,
   "metadata": {
    "scrolled": true
   },
   "outputs": [
    {
     "name": "stdout",
     "output_type": "stream",
     "text": [
      "(2400, 784) (200, 784)\n",
      "(2400,) (200,)\n"
     ]
    }
   ],
   "source": [
    "# Read Training Images, Testing Images, Training Labels, Testing Labels\n",
    "# Use Assignment 0 for reference.\n",
    "train = np.array([plt.imread('Data/Train/'+str(i)+'.jpg').reshape(-1) for i in range(1,2401)])\n",
    "test = np.array([plt.imread('Data/Test/'+str(i)+'.jpg').reshape(-1) for i in range(1,201)])\n",
    "train_labels = np.loadtxt(\"Data/Train/Training Labels.txt\")\n",
    "test_labels = np.loadtxt(\"Data/Test/Test Labels.txt\")\n",
    "print(train.shape, test.shape)\n",
    "print(train_labels.shape,test_labels.shape)\n"
   ]
  },
  {
   "cell_type": "code",
   "execution_count": 3,
   "metadata": {},
   "outputs": [
    {
     "name": "stdout",
     "output_type": "stream",
     "text": [
      "[[[   0]\n",
      "  [   1]\n",
      "  [   2]\n",
      "  ...\n",
      "  [ 237]\n",
      "  [ 238]\n",
      "  [ 239]]\n",
      "\n",
      " [[ 240]\n",
      "  [ 241]\n",
      "  [ 242]\n",
      "  ...\n",
      "  [ 477]\n",
      "  [ 478]\n",
      "  [ 479]]\n",
      "\n",
      " [[ 480]\n",
      "  [ 481]\n",
      "  [ 482]\n",
      "  ...\n",
      "  [ 717]\n",
      "  [ 718]\n",
      "  [ 719]]\n",
      "\n",
      " ...\n",
      "\n",
      " [[1680]\n",
      "  [1681]\n",
      "  [1682]\n",
      "  ...\n",
      "  [1917]\n",
      "  [1918]\n",
      "  [1919]]\n",
      "\n",
      " [[1920]\n",
      "  [1921]\n",
      "  [1922]\n",
      "  ...\n",
      "  [2157]\n",
      "  [2158]\n",
      "  [2159]]\n",
      "\n",
      " [[2160]\n",
      "  [2161]\n",
      "  [2162]\n",
      "  ...\n",
      "  [2397]\n",
      "  [2398]\n",
      "  [2399]]] (10, 240, 1)\n"
     ]
    }
   ],
   "source": [
    "# Grouping the indexes of each image_number representation in an array where each index in it is an array containing 240 elements corresponding to the indexes of each number\n",
    "class_indexes = []\n",
    "for i in range(10):\n",
    "    class_indexes.append(np.argwhere(train_labels == i)) \n",
    "print(np.array(class_indexes),np.array(class_indexes).shape)\n",
    "# print(train[0])"
   ]
  },
  {
   "cell_type": "code",
   "execution_count": 4,
   "metadata": {},
   "outputs": [],
   "source": [
    "## Mean\n",
    "def mean(arr1):\n",
    "    dimension = arr1.shape\n",
    "#     print((dimension))\n",
    "    if(len(dimension)>2):\n",
    "        columns = dimension[2]\n",
    "    else:\n",
    "        columns = dimension[1]\n",
    "    rows = dimension[0]\n",
    "#     print(dimension)\n",
    "    arr = np.zeros((784))\n",
    "    index = 0\n",
    "    for j in range(columns):\n",
    "        sum = 0\n",
    "        for i in range(rows):\n",
    "            if(len(dimension)>2):\n",
    "                sum+= arr1[i][0][j]\n",
    "            else:\n",
    "                sum+= arr1[i][j]\n",
    "        arr[j] = sum/rows\n",
    "    return np.array(arr)\n",
    "\n",
    "## Covariance\n",
    "def cov(x,y):\n",
    "    cov = 0\n",
    "    if len(x) != len(y):\n",
    "        return\n",
    "    n = len(x)\n",
    "    xy = [x[i]*y[i] for i in range(n)]\n",
    "    mean_x = mean(x)\n",
    "    mean_y = mean(y)\n",
    "    for i in range(n):\n",
    "        cov += (x[i]-mean_x)*(y[i]-mean_y) \n",
    "    return cov/n\n",
    " \n",
    "\n",
    "    \n",
    "## Transpose of matrix\n",
    "def transp(arr):\n",
    "    tr = [[arr[j][i] for j in range(len(arr))] for i in range(len(arr[0]))] \n",
    "    return np.array(tr)\n",
    "\n",
    "## Dot product \n",
    "def dot(x, y):\n",
    "    return sum(i*j for i, j in zip(x, y))"
   ]
  },
  {
   "cell_type": "markdown",
   "metadata": {},
   "source": [
    "## Compute weight vectors"
   ]
  },
  {
   "cell_type": "code",
   "execution_count": 5,
   "metadata": {},
   "outputs": [],
   "source": [
    "def getWeightVector():\n",
    "    classMean = np.zeros((10, 784))\n",
    "    classMean2 = np.zeros((10, 784))\n",
    "    otherClassMeans = np.zeros((10, 784))\n",
    "    otherClassMeans2 = np.zeros((10, 784))\n",
    "\n",
    "    otherClasses = []\n",
    "    Sw1, Sw2, Sw = np.zeros((10, 784, 784)), np.zeros((10, 784, 784)), np.zeros((10, 784, 784))\n",
    "    Sw_inverse = Sw\n",
    "    W = np.zeros((10, 784, 1))\n",
    "    for i in range(10):\n",
    "         # Get the mean of every index for all 240 of class i\n",
    "#         classMean[i]= np.mean(train[class_indexes[i]],axis=0)\n",
    "#         print(np.array(train[class_indexes[i]]).shape)\n",
    "        classMean[i]= mean(train[class_indexes[i]])\n",
    "        # one-versus-the-rest approach ... leaving all the other classes except current class in the array (2400-240)\n",
    "        otherClasses.append(np.delete(train, class_indexes[i], axis=0))\n",
    "#         print(np.array(otherClasses).shape)\n",
    "        # Get the mean of all of the other classes\n",
    "        otherClassMeans[i] = mean(otherClasses[i])\n",
    "#         otherClassMeans2[i] = mean(otherClasses[i])\n",
    "#         comparison = np.array(classMean[i]) == np.array(classMean2[i])\n",
    "#         equal_arrays = comparison.all() \n",
    "#         print(equal_arrays)\n",
    "#         print(train[class_indexes[i]].shape,classMean[i].shape)\n",
    "        ## Reshaping train[class_indexes[i]] to match the classMean dimensions for subtraction\n",
    "        X_nReshaped = train[class_indexes[i]].reshape(-1, 784)\n",
    "#         print(train[class_indexes[i]].shape,classMean[i].shape)\n",
    "        # Subtracting each element from the mean following the first argument in rule Sw1 = sum(Xn-mean(c1).(Xn-mean(c1)T))\n",
    "        Xn1_mean_subtracted = np.subtract(X_nReshaped,classMean[i])\n",
    "        ## Getting the second argument (Xn-mean(c1)T\n",
    "        Xn1_mean_subtracted_transpose = transp(Xn1_mean_subtracted)\n",
    "        ## Applying dot product on the 2 arguments to have the First part of the equation for class1\n",
    "#         Sw1[i] = Xn1_mean_subtracted_transpose.dot(Xn1_mean_subtracted)\n",
    "        Sw1[i] = Xn1_mean_subtracted_transpose.dot(Xn1_mean_subtracted)\n",
    "        ## Applying the same formula for class2\n",
    "        Xn2_mean_subtracted = np.subtract(otherClasses[i], otherClassMeans[i])\n",
    "        Xn2_mean_subtracted_transpose = transp(Xn2_mean_subtracted)\n",
    "#         Sw2[i] = Xn2_mean_subtracted_transpose.dot(Xn2_mean_subtracted)\n",
    "        Sw2[i] = Xn2_mean_subtracted_transpose.dot(Xn2_mean_subtracted)\n",
    "        ## Adding sum(Xn-mean(c1).(Xn-mean(c1)T))+sum(Xn-mean(c2).(Xn-mean(c2)T))\n",
    "        Sw[i] = Sw1[i] + Sw2[i]\n",
    "        # Now we have the distance within the two classes (784,784)\n",
    "        # Getting the weight vector from the rule Sw-1(m2-m1)\n",
    "        Sw_inverse[i] = np.linalg.pinv(Sw[i])\n",
    "        # m2 - m1 \n",
    "        mean_Subtraction = np.subtract(otherClassMeans[i],classMean[i])\n",
    "#         print(mean_Subtraction.shape,Sw_inverse[i].shape)\n",
    "        # Reshaping mean_Subtraction to (784,1)\n",
    "        mean_Subtraction = mean_Subtraction.reshape(-1, 1)\n",
    "        # Get Weight Vector\n",
    "        W[i] = np.dot(Sw_inverse[i],mean_Subtraction)\n",
    "    return W,classMean,otherClassMeans"
   ]
  },
  {
   "cell_type": "code",
   "execution_count": 14,
   "metadata": {},
   "outputs": [],
   "source": [
    "W = getWeightVector()"
   ]
  },
  {
   "cell_type": "code",
   "execution_count": 30,
   "metadata": {},
   "outputs": [
    {
     "data": {
      "text/plain": [
       "array([0, 0, 0, 0, 0, 0, 0, 0, 0, 0, 0, 0, 0, 0, 0, 0, 0, 0, 6, 0, 1, 1,\n",
       "       1, 1, 1, 1, 1, 1, 1, 1, 1, 1, 1, 1, 1, 1, 1, 1, 1, 1, 2, 8, 2, 1,\n",
       "       2, 2, 2, 4, 3, 2, 3, 2, 1, 5, 2, 2, 4, 2, 2, 2, 3, 3, 3, 3, 3, 3,\n",
       "       3, 3, 3, 3, 3, 3, 3, 3, 3, 3, 3, 3, 8, 8, 8, 4, 4, 4, 4, 4, 4, 6,\n",
       "       6, 5, 4, 4, 8, 9, 4, 6, 3, 8, 4, 9, 8, 5, 8, 3, 5, 5, 5, 5, 5, 5,\n",
       "       9, 8, 6, 5, 8, 5, 9, 3, 5, 5, 6, 6, 6, 6, 6, 6, 6, 6, 6, 6, 6, 6,\n",
       "       6, 6, 6, 6, 6, 6, 6, 6, 7, 7, 7, 7, 7, 7, 7, 7, 7, 9, 7, 7, 2, 7,\n",
       "       9, 7, 7, 7, 7, 3, 8, 8, 8, 8, 5, 8, 8, 8, 8, 8, 8, 8, 8, 3, 8, 8,\n",
       "       8, 8, 8, 8, 9, 7, 9, 7, 7, 7, 3, 3, 9, 3, 4, 9, 9, 9, 7, 9, 9, 0,\n",
       "       9, 9])"
      ]
     },
     "execution_count": 30,
     "metadata": {},
     "output_type": "execute_result"
    }
   ],
   "source": [
    "Y = np.zeros((len(test), 10))\n",
    "predicted = np.zeros((len(test)), dtype=int)\n",
    "## Computing the prediction set by applying the same formula to the test function (Weight_Vector_transpose . each vector in the test set)) )\n",
    "for j in range(len(test)):\n",
    "    for i in range(10):\n",
    "        weight_vector_transpose = transp(W[0][i])\n",
    "        Y[j, i] = np.dot(weight_vector_transpose,  test[j])\n",
    "    # Returning the index of the min value in each prediction\n",
    "    predicted[j] = np.argmin(Y[j])\n",
    "predicted"
   ]
  },
  {
   "cell_type": "code",
   "execution_count": 31,
   "metadata": {},
   "outputs": [
    {
     "data": {
      "text/plain": [
       "array([0, 0, 0, 0, 0, 0, 0, 0, 0, 0, 0, 0, 0, 0, 0, 0, 0, 0, 0, 0, 1, 1,\n",
       "       1, 1, 1, 1, 1, 1, 1, 1, 1, 1, 1, 1, 1, 1, 1, 1, 1, 1, 2, 2, 2, 2,\n",
       "       2, 2, 2, 2, 2, 2, 2, 2, 2, 2, 2, 2, 2, 2, 2, 2, 3, 3, 3, 3, 3, 3,\n",
       "       3, 3, 3, 3, 3, 3, 3, 3, 3, 3, 3, 3, 3, 3, 4, 4, 4, 4, 4, 4, 4, 4,\n",
       "       4, 4, 4, 4, 4, 4, 4, 4, 4, 4, 4, 4, 5, 5, 5, 5, 5, 5, 5, 5, 5, 5,\n",
       "       5, 5, 5, 5, 5, 5, 5, 5, 5, 5, 6, 6, 6, 6, 6, 6, 6, 6, 6, 6, 6, 6,\n",
       "       6, 6, 6, 6, 6, 6, 6, 6, 7, 7, 7, 7, 7, 7, 7, 7, 7, 7, 7, 7, 7, 7,\n",
       "       7, 7, 7, 7, 7, 7, 8, 8, 8, 8, 8, 8, 8, 8, 8, 8, 8, 8, 8, 8, 8, 8,\n",
       "       8, 8, 8, 8, 9, 9, 9, 9, 9, 9, 9, 9, 9, 9, 9, 9, 9, 9, 9, 9, 9, 9,\n",
       "       9, 9])"
      ]
     },
     "execution_count": 31,
     "metadata": {},
     "output_type": "execute_result"
    }
   ],
   "source": [
    "test_labels = test_labels.astype(int)\n",
    "test_labels"
   ]
  },
  {
   "cell_type": "markdown",
   "metadata": {},
   "source": [
    "## Compute confusion matrix"
   ]
  },
  {
   "cell_type": "code",
   "execution_count": 32,
   "metadata": {},
   "outputs": [
    {
     "data": {
      "text/plain": [
       "array([[19,  0,  0,  0,  0,  0,  1,  0,  0,  0],\n",
       "       [ 0, 20,  0,  0,  0,  0,  0,  0,  0,  0],\n",
       "       [ 0,  2, 12,  2,  2,  1,  0,  0,  1,  0],\n",
       "       [ 0,  0,  0, 18,  0,  0,  0,  0,  2,  0],\n",
       "       [ 0,  0,  0,  1, 10,  1,  3,  0,  3,  2],\n",
       "       [ 0,  0,  0,  2,  0, 11,  1,  0,  4,  2],\n",
       "       [ 0,  0,  0,  0,  0,  0, 20,  0,  0,  0],\n",
       "       [ 0,  0,  1,  1,  0,  0,  0, 16,  0,  2],\n",
       "       [ 0,  0,  0,  1,  0,  1,  0,  0, 18,  0],\n",
       "       [ 1,  0,  0,  3,  1,  0,  0,  5,  0, 10]])"
      ]
     },
     "execution_count": 32,
     "metadata": {},
     "output_type": "execute_result"
    }
   ],
   "source": [
    "# Please return a variable named confusion_matrix so the next cell would work.\n",
    "## Implementing the confusion matrix by calculating the occurence of predictions of each class per the actual labels\n",
    "confusion_matrix = [[0] * 10 for i in range(10)]\n",
    "for pred, lbl in zip(predicted, test_labels):\n",
    "    confusion_matrix[pred][lbl] += 1\n",
    "confusion_matrix = np.array(confusion_matrix)\n",
    "confusion_matrix = transp(confusion_matrix)\n",
    "confusion_matrix"
   ]
  },
  {
   "cell_type": "markdown",
   "metadata": {},
   "source": [
    "## Plot confusion matrix and print accuracy (Don't edit)"
   ]
  },
  {
   "cell_type": "code",
   "execution_count": 33,
   "metadata": {},
   "outputs": [
    {
     "name": "stdout",
     "output_type": "stream",
     "text": [
      "Overall accuracy:  0.77\n"
     ]
    },
    {
     "data": {
      "image/png": "[encoded data removed]",
      "text/plain": [
       "<Figure size 720x720 with 1 Axes>"
      ]
     },
     "metadata": {
      "needs_background": "light"
     },
     "output_type": "display_data"
    }
   ],
   "source": [
    "# PLEASE DON'T EDIT THIS CELL\n",
    "\n",
    "# Plot Confusion Matrix\n",
    "plt.rc('figure', figsize=[20,10])\n",
    "plt.matshow(confusion_matrix,cmap='Blues')\n",
    "for i in range(0,confusion_matrix.shape[0]):\n",
    "    for j in range(0,confusion_matrix.shape[1]):\n",
    "        plt.annotate(confusion_matrix[i,j],(j,i))\n",
    "plt.savefig('Confusion_NoBias.jpg')\n",
    "# Calculate Accuracy\n",
    "print(\"Overall accuracy: \",(np.sum(np.diag(confusion_matrix)))/test.shape[0])"
   ]
  },
  {
   "cell_type": "markdown",
   "metadata": {},
   "source": [
    "## Compute bias node for each classifier"
   ]
  },
  {
   "cell_type": "code",
   "execution_count": 34,
   "metadata": {},
   "outputs": [
    {
     "name": "stdout",
     "output_type": "stream",
     "text": [
      "[0.00619621 0.00273676 0.00678718 0.00703005 0.00288468 0.0031758\n",
      " 0.00848218 0.0060023  0.00699402 0.00354216]\n"
     ]
    }
   ],
   "source": [
    "W0 = np.zeros((10))\n",
    "## Computing the bias by using rule (WeightVector_transpose . (mean2+mean1)/2)\n",
    "for i in range(10):\n",
    "    weight_vector_transpose = transp(W[0][i])\n",
    "    W0[i] = -0.5 * np.dot(weight_vector_transpose, (W[1][i] + W[2][i]))\n",
    "print(W0)"
   ]
  },
  {
   "cell_type": "code",
   "execution_count": 35,
   "metadata": {},
   "outputs": [
    {
     "data": {
      "text/plain": [
       "array([0, 0, 0, 0, 0, 0, 0, 0, 0, 0, 0, 0, 0, 0, 0, 0, 0, 0, 6, 0, 1, 1,\n",
       "       1, 1, 1, 1, 1, 1, 1, 1, 1, 1, 1, 1, 1, 1, 1, 1, 1, 1, 2, 1, 2, 1,\n",
       "       2, 2, 0, 4, 3, 2, 3, 2, 1, 5, 2, 2, 4, 2, 2, 2, 3, 3, 3, 3, 5, 3,\n",
       "       3, 3, 3, 3, 3, 3, 3, 3, 3, 3, 3, 3, 8, 8, 4, 4, 4, 4, 4, 4, 4, 4,\n",
       "       4, 5, 4, 4, 8, 4, 4, 4, 4, 4, 4, 9, 8, 5, 5, 3, 5, 5, 5, 5, 5, 5,\n",
       "       9, 8, 6, 5, 5, 5, 9, 5, 5, 5, 6, 6, 6, 6, 6, 6, 6, 6, 6, 6, 6, 6,\n",
       "       6, 6, 6, 6, 6, 6, 6, 6, 7, 7, 7, 7, 7, 7, 7, 7, 7, 9, 7, 9, 2, 7,\n",
       "       9, 7, 7, 7, 7, 3, 8, 5, 8, 9, 5, 8, 8, 8, 8, 8, 8, 8, 8, 2, 8, 8,\n",
       "       8, 8, 8, 5, 9, 7, 9, 7, 7, 9, 3, 5, 9, 9, 4, 9, 9, 9, 9, 9, 9, 0,\n",
       "       9, 9])"
      ]
     },
     "execution_count": 35,
     "metadata": {},
     "output_type": "execute_result"
    }
   ],
   "source": [
    "Y = np.zeros((len(test), 10))\n",
    "predicted = np.zeros((len(test)), dtype=int)\n",
    "for j in range(len(test)):\n",
    "    for i in range(10):\n",
    "        weight_vector_transpose = transp(W[0][i])\n",
    "        Y[j, i] = np.dot(weight_vector_transpose,  test[j]) + W0[i]\n",
    "    predicted[j] = np.argmin(Y[j])\n",
    "predicted"
   ]
  },
  {
   "cell_type": "markdown",
   "metadata": {},
   "source": [
    "## Compute confusion matrix"
   ]
  },
  {
   "cell_type": "code",
   "execution_count": 36,
   "metadata": {},
   "outputs": [
    {
     "data": {
      "text/plain": [
       "array([[19,  0,  0,  0,  0,  0,  1,  0,  0,  0],\n",
       "       [ 0, 20,  0,  0,  0,  0,  0,  0,  0,  0],\n",
       "       [ 1,  3, 11,  2,  2,  1,  0,  0,  0,  0],\n",
       "       [ 0,  0,  0, 17,  0,  1,  0,  0,  2,  0],\n",
       "       [ 0,  0,  0,  0, 17,  1,  0,  0,  1,  1],\n",
       "       [ 0,  0,  0,  1,  0, 14,  1,  0,  2,  2],\n",
       "       [ 0,  0,  0,  0,  0,  0, 20,  0,  0,  0],\n",
       "       [ 0,  0,  1,  1,  0,  0,  0, 15,  0,  3],\n",
       "       [ 0,  0,  1,  0,  0,  3,  0,  0, 15,  1],\n",
       "       [ 1,  0,  0,  1,  1,  1,  0,  3,  0, 13]])"
      ]
     },
     "execution_count": 36,
     "metadata": {},
     "output_type": "execute_result"
    }
   ],
   "source": [
    "# Please return a variable named confusion_matrix so the next cell would work.\n",
    "## Implementing the confusion matrix by calculating the occurence of predictions of each class per the actual labels\n",
    "confusion_matrix = [[0] * 10 for i in range(10)]\n",
    "for pred, lbl in zip(predicted, test_labels):\n",
    "    confusion_matrix[pred][lbl] += 1\n",
    "confusion_matrix = np.array(confusion_matrix)\n",
    "confusion_matrix = transp(confusion_matrix)\n",
    "confusion_matrix"
   ]
  },
  {
   "cell_type": "markdown",
   "metadata": {},
   "source": [
    "## Plot confusion matrix and print accuracy (Don't edit)"
   ]
  },
  {
   "cell_type": "code",
   "execution_count": 37,
   "metadata": {},
   "outputs": [
    {
     "name": "stdout",
     "output_type": "stream",
     "text": [
      "Overall accuracy:  0.805\n"
     ]
    },
    {
     "data": {
      "image/png": "[encoded data removed]",
      "text/plain": [
       "<Figure size 720x720 with 1 Axes>"
      ]
     },
     "metadata": {
      "needs_background": "light"
     },
     "output_type": "display_data"
    }
   ],
   "source": [
    "# PLEASE DON'T EDIT THIS CELL\n",
    "\n",
    "# Plot Confusion Matrix\n",
    "plt.rc('figure', figsize=[20,10])\n",
    "plt.matshow(confusion_matrix,cmap='Blues')\n",
    "for i in range(0,confusion_matrix.shape[0]):\n",
    "    for j in range(0,confusion_matrix.shape[1]):\n",
    "        plt.annotate(confusion_matrix[i,j],(j,i))\n",
    "plt.savefig('Confusion_WithBias.jpg')\n",
    "# Calculate Accuracy\n",
    "print(\"Overall accuracy: \",(np.sum(np.diag(confusion_matrix)))/test.shape[0])"
   ]
  },
  {
   "cell_type": "code",
   "execution_count": null,
   "metadata": {},
   "outputs": [],
   "source": []
  }
 ],
 "metadata": {
  "kernelspec": {
   "display_name": "Python 3",
   "language": "python",
   "name": "python3"
  },
  "language_info": {
   "codemirror_mode": {
    "name": "ipython",
    "version": 3
   },
   "file_extension": ".py",
   "mimetype": "text/x-python",
   "name": "python",
   "nbconvert_exporter": "python",
   "pygments_lexer": "ipython3",
   "version": "3.6.9"
  }
 },
 "nbformat": 4,
 "nbformat_minor": 4
}
